{
 "cells": [
  {
   "cell_type": "markdown",
   "metadata": {},
   "source": [
    "### Test Calling a Local DeepSeek LLM\n",
    "\n",
    "##### About\n",
    "\n",
    "Code to interact with a local LLM using Ollama."
   ]
  },
  {
   "cell_type": "code",
   "execution_count": 1,
   "metadata": {},
   "outputs": [],
   "source": [
    "import json\n",
    "from langchain_ollama import ChatOllama"
   ]
  },
  {
   "cell_type": "code",
   "execution_count": 2,
   "metadata": {},
   "outputs": [],
   "source": [
    "max_output_tokens = 1000"
   ]
  },
  {
   "cell_type": "code",
   "execution_count": 3,
   "metadata": {},
   "outputs": [],
   "source": [
    "llm = ChatOllama(model=\"deepseek-r1:14b\", temperature=0, json_mode=True, num_predict=max_output_tokens)"
   ]
  },
  {
   "cell_type": "code",
   "execution_count": 4,
   "metadata": {},
   "outputs": [],
   "source": [
    "p = \"\"\"Your goal is to solve logic puzzles and provide a rationale for your answer.\n",
    "\n",
    "The answer will be as brief as possible, and the rationale will justify your answer.\n",
    "\n",
    "Respond with a JSON object:\n",
    "{\n",
    "    \"answer\": \"string\",\n",
    "    \"rationale\": \"string\"\n",
    "}\n",
    "\n",
    "{{query}}\n",
    "\"\"\""
   ]
  },
  {
   "cell_type": "code",
   "execution_count": 5,
   "metadata": {},
   "outputs": [],
   "source": [
    "logic_puzzle = \"If you have two coins that add up to 30 cents and one of them is not a nickel, what are the two coins?\"\n",
    "prompt = p.replace('{{query}}', logic_puzzle)"
   ]
  },
  {
   "cell_type": "code",
   "execution_count": 7,
   "metadata": {},
   "outputs": [
    {
     "name": "stdout",
     "output_type": "stream",
     "text": [
      "Failed to decode JSON response: Expecting value: line 1 column 1 (char 0)\n",
      "Response content: <think>\n",
      "Okay, so I've got this logic puzzle here: There are two coins that add up to 30 cents, and one of them is not a nickel. Hmm, let me try to figure this out step by step.\n",
      "\n",
      "First, I know that nickels are worth 5 cents each. So if one coin isn't a nickel, the other could be anything else. But wait, the total is 30 cents, so I need two coins adding up to that.\n",
      "\n",
      "Let me list possible combinations of US coins that add up to 30 cents. The common coins are pennies (1 cent), nickels (5), dimes (10), quarters (25), etc. But since we're dealing with just two coins, let's see:\n",
      "\n",
      "- A quarter (25) and a nickel (5) would make 30. That works because 25 + 5 = 30.\n",
      "- Alternatively, maybe two dimes and a nickel? Wait, no, that's three coins. The question says two coins.\n",
      "\n",
      "Wait, but the condition is that one of them is not a nickel. So in the first case, if I have a quarter and a nickel, then the quarter isn't a nickel, so that fits. But wait, does it say exactly one coin is not a nickel? Or just at least one?\n",
      "\n",
      "If both coins were nickels, they'd add up to 10 cents, which is way less than 30. So that's not possible.\n",
      "\n",
      "Another possibility: maybe two dimes and a nickel? No, that's three coins again. Wait, no, the question specifies two coins. So let me think again.\n",
      "\n",
      "Wait, another combination could be a dime (10) and two nickels (5 each), but that's three coins again. Not allowed here.\n",
      "\n",
      "So back to two coins: 25 + 5 = 30. That works. But wait, the condition is that one of them isn't a nickel. So in this case, the quarter isn't a nickel, so it fits.\n",
      "\n",
      "Alternatively, could there be another combination? Let's see:\n",
      "\n",
      "- If I take a dime (10) and two dimes would make 20, but that's only two coins adding to 20, not 30. So no.\n",
      "- What about a quarter (25) and a nickel (5), which is the same as before.\n",
      "\n",
      "Wait, another thought: could it be a half-dollar? But I think in US currency, the standard coins are up to quarters. Maybe not necessary here.\n",
      "\n",
      "So the only two-coin combination that adds up to 30 cents is a quarter and a nickel. And since one of them isn't a nickel (the quarter), that satisfies the condition.\n",
      "</think>\n",
      "\n",
      "The two coins must be a quarter (25 cents) and a nickel (5 cents). Since one coin is not a nickel, the quarter fits this condition.\n",
      "\n",
      "```json\n",
      "{\n",
      "    \"answer\": \"a quarter and a nickel\",\n",
      "    \"rationale\": \"The only combination of two US coins that add up to 30 cents is a quarter (25 cents) and a nickel (5 cents). Since one coin must not be a nickel, the quarter satisfies this condition.\"\n",
      "}\n",
      "```\n"
     ]
    }
   ],
   "source": [
    "msg = llm.invoke(input=prompt)\n",
    "try:\n",
    "    response = json.loads(msg.content)\n",
    "    print(json.dumps(response, indent=4))\n",
    "except json.JSONDecodeError as e:\n",
    "    print(\"Failed to decode JSON response:\", e)\n",
    "    print(\"Response content:\", msg.content)"
   ]
  },
  {
   "cell_type": "code",
   "execution_count": null,
   "metadata": {},
   "outputs": [],
   "source": []
  }
 ],
 "metadata": {
  "kernelspec": {
   "display_name": ".venv",
   "language": "python",
   "name": "python3"
  },
  "language_info": {
   "codemirror_mode": {
    "name": "ipython",
    "version": 3
   },
   "file_extension": ".py",
   "mimetype": "text/x-python",
   "name": "python",
   "nbconvert_exporter": "python",
   "pygments_lexer": "ipython3",
   "version": "3.12.7"
  }
 },
 "nbformat": 4,
 "nbformat_minor": 2
}
