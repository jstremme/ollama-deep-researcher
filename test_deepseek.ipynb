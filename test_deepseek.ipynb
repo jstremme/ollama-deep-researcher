{
 "cells": [
  {
   "cell_type": "markdown",
   "metadata": {},
   "source": [
    "### Test Calling a Local DeepSeek LLM\n",
    "\n",
    "##### About\n",
    "\n",
    "Code to interact with a local LLM using Ollama."
   ]
  },
  {
   "cell_type": "code",
   "execution_count": 1,
   "metadata": {},
   "outputs": [],
   "source": [
    "import json\n",
    "from langchain_ollama import ChatOllama"
   ]
  },
  {
   "cell_type": "code",
   "execution_count": 2,
   "metadata": {},
   "outputs": [],
   "source": [
    "max_output_tokens = 1000\n",
    "query = \"What are some things I should tell my son on his two year birthday?\""
   ]
  },
  {
   "cell_type": "code",
   "execution_count": 3,
   "metadata": {},
   "outputs": [],
   "source": [
    "llm = ChatOllama(model=\"deepseek-r1:14b\", temperature=0, num_predict=max_output_tokens)"
   ]
  },
  {
   "cell_type": "code",
   "execution_count": 4,
   "metadata": {},
   "outputs": [],
   "source": [
    "msg = llm.invoke(input=query)"
   ]
  },
  {
   "cell_type": "code",
   "execution_count": 5,
   "metadata": {},
   "outputs": [
    {
     "name": "stdout",
     "output_type": "stream",
     "text": [
      "<think>\n",
      "Okay, so the user is asking what they should tell their son on his second birthday. Hmm, that's a sweet moment. Let me think about how to approach this.\n",
      "\n",
      "First, I need to consider the age of the child—two years old. At that stage, kids are starting to understand more words and simple sentences, but their attention span is still short. So whatever messages we suggest should be simple, positive, and encouraging.\n",
      "\n",
      "The user probably wants to make their son feel loved and proud on his special day. They might also want to instill some values or encourage certain behaviors. Maybe they're looking for ideas that are both heartfelt and age-appropriate.\n",
      "\n",
      "I should think about the key themes: love, pride in achievements, encouragement for future growth, and fun. It's important to keep it light and joyful since it's a birthday. Also, using positive reinforcement can help build their self-esteem.\n",
      "\n",
      "Perhaps including some milestones they've achieved, like walking or talking, would make him feel proud. Encouraging curiosity and kindness are also great messages that can be easily conveyed at this age.\n",
      "\n",
      "I should structure the advice in a way that's easy to follow, maybe listing key points with examples so the user has specific things to say. Keeping each point brief and positive will help the user deliver genuine and heartfelt messages.\n",
      "\n",
      "Also, considering cultural or personal values might be important, but since I don't have specifics, keeping it general is better. The goal is to provide a variety of ideas that cover different aspects—praise, encouragement, fun, and love.\n",
      "\n",
      "I should make sure each point is actionable and something the user can easily say in the moment. Maybe including things like \"You're doing such a great job\" or \"It's okay to try new things\" which are both encouraging and supportive.\n",
      "\n",
      "Overall, the response should be warm, positive, and tailored to a two-year-old's understanding level, ensuring the child feels celebrated and loved on his birthday.\n",
      "</think>\n",
      "\n",
      "On your son's second birthday, it's a wonderful opportunity to celebrate his growth and milestones while instilling positive values. Here are some thoughtful things you can say:\n",
      "\n",
      "1. **Express Love and Pride**:  \n",
      "   - \"Happy Birthday, my love! You're growing up so fast, and I'm so proud of you.\"\n",
      "   - \"You make me so happy every day, and today is all about celebrating how special you are.\"\n",
      "\n",
      "2. **Acknowledge His Achievements**:  \n",
      "   - \"Wow, look at how much you've learned to do this year! You’re such a big kid now!\"\n",
      "   - \"I love seeing how curious and brave you are—keep exploring the world!\"\n",
      "\n",
      "3. **Encourage Kindness and Sharing**:  \n",
      "   - \"Remember to always be kind to others, just like you are with your toys and friends.\"\n",
      "   - \"You're learning to share and play nicely—that's so special.\"\n",
      "\n",
      "4. **Celebrate His Unique Personality**:  \n",
      "   - \"You have such a big imagination, and I love seeing the world through your eyes!\"\n",
      "   - \"It's okay to be yourself—no matter what, we all love you just as you are.\"\n",
      "\n",
      "5. **Encourage Resilience and Trying New Things**:  \n",
      "   - \"If something is hard, don't worry—you can try again and keep going!\"\n",
      "   - \"It's okay to feel scared sometimes, but I know you're brave enough to try new things.\"\n",
      "\n",
      "6. **Make It Fun and Joyful**:  \n",
      "   - \"Let’s have the best day ever! We’re going to sing, play, and eat cake—your favorite!\"\n",
      "   - \"Today is all about YOU. Let’s make it a day full of laughter and joy!\"\n",
      "\n",
      "7. **Talk About the Future**:  \n",
      "   - \"As you grow up, I want you to remember how much we love you and support you.\"\n",
      "   - \"You’re going to do so many amazing things in your life—I can’t wait to see what you’ll learn next.\"\n",
      "\n",
      "Remember, at two years old, he’s still developing his language skills, so keep it simple, positive, and heartfelt. Focus on celebrating him for who he is and encouraging the values you want him to carry forward. Happy Birthday to your little one! 🎉🎈\n"
     ]
    }
   ],
   "source": [
    "print(msg.content)"
   ]
  }
 ],
 "metadata": {
  "kernelspec": {
   "display_name": ".venv",
   "language": "python",
   "name": "python3"
  },
  "language_info": {
   "codemirror_mode": {
    "name": "ipython",
    "version": 3
   },
   "file_extension": ".py",
   "mimetype": "text/x-python",
   "name": "python",
   "nbconvert_exporter": "python",
   "pygments_lexer": "ipython3",
   "version": "3.12.7"
  }
 },
 "nbformat": 4,
 "nbformat_minor": 2
}
